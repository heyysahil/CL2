{
 "cells": [
  {
   "cell_type": "code",
   "execution_count": 1,
   "id": "e1024332-5154-4120-a8d1-0d0978ac7c66",
   "metadata": {},
   "outputs": [],
   "source": [
    "from collections import defaultdict"
   ]
  },
  {
   "cell_type": "code",
   "execution_count": 2,
   "id": "1b3308a1-7675-4ab3-bd3c-d0fdae505bd9",
   "metadata": {},
   "outputs": [],
   "source": [
    "documents = {\n",
    "    1: \"Data science is an interdisciplinary field.\",\n",
    "    2: \"Machine learning is a subset of artificial intelligence.\",\n",
    "    3: \"Data science includes machine learning and data mining.\",\n",
    "    4: \"Artificial intelligence is transforming the world.\",\n",
    "    5: \"Data mining helps to extract information from data.\"\n",
    "}"
   ]
  },
  {
   "cell_type": "code",
   "execution_count": 3,
   "id": "fa49c41e-ccbd-42ee-8e67-a5b413d1bb5c",
   "metadata": {},
   "outputs": [
    {
     "name": "stdout",
     "output_type": "stream",
     "text": [
      "Inverted Index:\n",
      "data: [1, 3, 5]\n",
      "science: [1, 3]\n",
      "is: [1, 2, 4]\n",
      "an: [1]\n",
      "interdisciplinary: [1]\n",
      "field.: [1]\n",
      "machine: [2, 3]\n",
      "learning: [2, 3]\n",
      "a: [2]\n",
      "subset: [2]\n",
      "of: [2]\n",
      "artificial: [2, 4]\n",
      "intelligence.: [2]\n",
      "includes: [3]\n",
      "and: [3]\n",
      "mining.: [3]\n",
      "intelligence: [4]\n",
      "transforming: [4]\n",
      "the: [4]\n",
      "world.: [4]\n",
      "mining: [5]\n",
      "helps: [5]\n",
      "to: [5]\n",
      "extract: [5]\n",
      "information: [5]\n",
      "from: [5]\n",
      "data.: [5]\n"
     ]
    }
   ],
   "source": [
    "# Step 1: Build the inverted index\n",
    "inverted_index = defaultdict(list)\n",
    "\n",
    "for doc_id, content in documents.items():\n",
    "    # Tokenize each document into words\n",
    "    words = content.lower().split()\n",
    "    for word in words:\n",
    "        if doc_id not in inverted_index[word]:\n",
    "            inverted_index[word].append(doc_id)\n",
    "\n",
    "# Display the inverted index (optional, for reference)\n",
    "print(\"Inverted Index:\")\n",
    "for word, doc_ids in inverted_index.items():\n",
    "    print(f\"{word}: {doc_ids}\")"
   ]
  },
  {
   "cell_type": "code",
   "execution_count": 4,
   "id": "cdfc2311-441a-4ef9-a9ed-842b23981973",
   "metadata": {},
   "outputs": [],
   "source": [
    "def search(query):\n",
    "    query_words = query.lower().split()\n",
    "    result_docs = [set(inverted_index[word]) for word in query_words if word in inverted_index]\n",
    "    return set.intersection(*result_docs) if result_docs else set()\n"
   ]
  },
  {
   "cell_type": "code",
   "execution_count": 5,
   "id": "28edc82e-a01c-44ee-aa17-51690abaa5cd",
   "metadata": {},
   "outputs": [
    {
     "name": "stdin",
     "output_type": "stream",
     "text": [
      "\n",
      "Enter a search query:  data\n"
     ]
    },
    {
     "name": "stdout",
     "output_type": "stream",
     "text": [
      "\n",
      "Documents containing 'data': {1, 3, 5}\n",
      "Document 1: Data science is an interdisciplinary field.\n",
      "Document 3: Data science includes machine learning and data mining.\n",
      "Document 5: Data mining helps to extract information from data.\n"
     ]
    }
   ],
   "source": [
    "# Step 3: Search documents based on user input query\n",
    "query = input(\"\\nEnter a search query: \")\n",
    "result = search(query)\n",
    "\n",
    "# Display search results\n",
    "if result:\n",
    "    print(f\"\\nDocuments containing '{query}': {result}\")\n",
    "    for doc_id in result:\n",
    "        print(f\"Document {doc_id}: {documents[doc_id]}\")\n",
    "else:\n",
    "    print(f\"\\nNo documents found containing '{query}'.\")\n"
   ]
  }
 ],
 "metadata": {
  "kernelspec": {
   "display_name": "Python 3 (ipykernel)",
   "language": "python",
   "name": "python3"
  },
  "language_info": {
   "codemirror_mode": {
    "name": "ipython",
    "version": 3
   },
   "file_extension": ".py",
   "mimetype": "text/x-python",
   "name": "python",
   "nbconvert_exporter": "python",
   "pygments_lexer": "ipython3",
   "version": "3.11.7"
  }
 },
 "nbformat": 4,
 "nbformat_minor": 5
}
