{
 "cells": [
  {
   "cell_type": "markdown",
   "id": "fc022d96-ac80-4cbe-9de8-635319d05122",
   "metadata": {},
   "source": [
    "#  Implementations of 16 Qubit Random Number Generator "
   ]
  },
  {
   "cell_type": "code",
   "execution_count": 2,
   "id": "9d5ea07e-c0ed-4dbd-a81b-22dfba407bb1",
   "metadata": {},
   "outputs": [
    {
     "name": "stdout",
     "output_type": "stream",
     "text": [
      "      ┌───┐\n",
      " q_0: ┤ H ├\n",
      "      ├───┤\n",
      " q_1: ┤ H ├\n",
      "      ├───┤\n",
      " q_2: ┤ H ├\n",
      "      ├───┤\n",
      " q_3: ┤ H ├\n",
      "      ├───┤\n",
      " q_4: ┤ H ├\n",
      "      ├───┤\n",
      " q_5: ┤ H ├\n",
      "      ├───┤\n",
      " q_6: ┤ H ├\n",
      "      ├───┤\n",
      " q_7: ┤ H ├\n",
      "      ├───┤\n",
      " q_8: ┤ H ├\n",
      "      ├───┤\n",
      " q_9: ┤ H ├\n",
      "      ├───┤\n",
      "q_10: ┤ H ├\n",
      "      ├───┤\n",
      "q_11: ┤ H ├\n",
      "      ├───┤\n",
      "q_12: ┤ H ├\n",
      "      ├───┤\n",
      "q_13: ┤ H ├\n",
      "      ├───┤\n",
      "q_14: ┤ H ├\n",
      "      ├───┤\n",
      "q_15: ┤ H ├\n",
      "      └───┘\n",
      "Random number (decimal): 36182\n",
      "Random number (binary): 1000110101010110\n"
     ]
    }
   ],
   "source": [
    "from qiskit import QuantumCircuit\n",
    "from qiskit.quantum_info import Statevector\n",
    "import random\n",
    "\n",
    "# Step 1: Create a 16-qubit quantum circuit\n",
    "qc = QuantumCircuit(16)\n",
    "\n",
    "# Apply Hadamard gates to all qubits to create superposition\n",
    "for qubit in range(16):\n",
    "    qc.h(qubit)\n",
    "\n",
    "# Step 2: Initialize state vector and apply the circuit\n",
    "initial_state = Statevector.from_label('0' * 16)  # Start from the |000...0> state\n",
    "final_state = initial_state.evolve(qc)  # Apply the circuit to create superposition\n",
    "\n",
    "# Step 3: Sample a random bitstring from the state vector\n",
    "# We simulate a single \"measurement\" by choosing a bitstring based on probabilities\n",
    "random_bitstring = final_state.sample_counts(shots=1)\n",
    "binary_result = list(random_bitstring.keys())[0]\n",
    "\n",
    "# Convert binary to decimal\n",
    "decimal_result = int(binary_result, 2)\n",
    "\n",
    "# Step 4: Display the output in the desired format\n",
    "print(qc.draw(output='text'))  # Display the circuit diagram\n",
    "print(f\"Random number (decimal): {decimal_result}\")\n",
    "print(f\"Random number (binary): {binary_result}\")\n"
   ]
  },
  {
   "cell_type": "code",
   "execution_count": null,
   "id": "076d4072-010e-4694-b5f9-5eca9b766b82",
   "metadata": {},
   "outputs": [],
   "source": []
  }
 ],
 "metadata": {
  "kernelspec": {
   "display_name": "Python 3 (ipykernel)",
   "language": "python",
   "name": "python3"
  },
  "language_info": {
   "codemirror_mode": {
    "name": "ipython",
    "version": 3
   },
   "file_extension": ".py",
   "mimetype": "text/x-python",
   "name": "python",
   "nbconvert_exporter": "python",
   "pygments_lexer": "ipython3",
   "version": "3.11.7"
  }
 },
 "nbformat": 4,
 "nbformat_minor": 5
}
