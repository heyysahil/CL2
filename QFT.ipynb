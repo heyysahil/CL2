{
 "cells": [
  {
   "cell_type": "markdown",
   "id": "3bca98ba-2ea8-4465-9ba0-da8eff7414b4",
   "metadata": {},
   "source": [
    "#  Implementing a 5 qubit Quantum Fourier Transform "
   ]
  },
  {
   "cell_type": "code",
   "execution_count": 1,
   "id": "53d777da-0d5b-4f72-b88f-b5afe3aa0b57",
   "metadata": {},
   "outputs": [
    {
     "name": "stdout",
     "output_type": "stream",
     "text": [
      "5-Qubit Quantum Fourier Transform Circuit:\n",
      "     ┌───┐                                                                 »\n",
      "q_0: ┤ H ├─■────────■─────────────■─────────────────■──────────────────────»\n",
      "     └───┘ │P(π/2)  │       ┌───┐ │                 │                      »\n",
      "q_1: ──────■────────┼───────┤ H ├─┼────────■────────┼─────────■────────────»\n",
      "                    │P(π/4) └───┘ │        │P(π/2)  │         │       ┌───┐»\n",
      "q_2: ───────────────■─────────────┼────────■────────┼─────────┼───────┤ H ├»\n",
      "                                  │P(π/8)           │         │P(π/4) └───┘»\n",
      "q_3: ─────────────────────────────■─────────────────┼─────────■────────────»\n",
      "                                                    │P(π/16)               »\n",
      "q_4: ───────────────────────────────────────────────■──────────────────────»\n",
      "                                                                           »\n",
      "«                                                      \n",
      "«q_0: ───────────────────────────────────────────────X─\n",
      "«                                                    │ \n",
      "«q_1: ─■─────────────────────────────────────────X───┼─\n",
      "«      │                                         │   │ \n",
      "«q_2: ─┼────────■────────■───────────────────────┼───┼─\n",
      "«      │        │P(π/2)  │       ┌───┐           │   │ \n",
      "«q_3: ─┼────────■────────┼───────┤ H ├─■─────────X───┼─\n",
      "«      │P(π/8)           │P(π/4) └───┘ │P(π/2) ┌───┐ │ \n",
      "«q_4: ─■─────────────────■─────────────■───────┤ H ├─X─\n",
      "«                                              └───┘   \n",
      "\n",
      "5-Qubit Quantum Fourier Transform Final State Vector:\n",
      "Statevector([0.1767767+0.j, 0.1767767+0.j, 0.1767767+0.j, 0.1767767+0.j,\n",
      "             0.1767767+0.j, 0.1767767+0.j, 0.1767767+0.j, 0.1767767+0.j,\n",
      "             0.1767767+0.j, 0.1767767+0.j, 0.1767767+0.j, 0.1767767+0.j,\n",
      "             0.1767767+0.j, 0.1767767+0.j, 0.1767767+0.j, 0.1767767+0.j,\n",
      "             0.1767767+0.j, 0.1767767+0.j, 0.1767767+0.j, 0.1767767+0.j,\n",
      "             0.1767767+0.j, 0.1767767+0.j, 0.1767767+0.j, 0.1767767+0.j,\n",
      "             0.1767767+0.j, 0.1767767+0.j, 0.1767767+0.j, 0.1767767+0.j,\n",
      "             0.1767767+0.j, 0.1767767+0.j, 0.1767767+0.j, 0.1767767+0.j],\n",
      "            dims=(2, 2, 2, 2, 2))\n"
     ]
    }
   ],
   "source": [
    "from qiskit import QuantumCircuit\n",
    "from qiskit.quantum_info import Statevector\n",
    "import numpy as np\n",
    "\n",
    "def apply_qft(qc, n):\n",
    "    \"\"\"Applies Quantum Fourier Transform on the first n qubits in the circuit.\"\"\"\n",
    "    for j in range(n):\n",
    "        # Apply Hadamard on the j-th qubit\n",
    "        qc.h(j)\n",
    "        # Apply controlled rotation gates\n",
    "        for k in range(j+1, n):\n",
    "            angle = np.pi / (2 ** (k - j))\n",
    "            qc.cp(angle, k, j)\n",
    "    # Reverse qubit order with swap gates\n",
    "    for i in range(n // 2):\n",
    "        qc.swap(i, n - i - 1)\n",
    "\n",
    "# Create a 5-qubit circuit\n",
    "qc = QuantumCircuit(5)\n",
    "\n",
    "# Apply QFT on all 5 qubits\n",
    "apply_qft(qc, 5)\n",
    "\n",
    "# Initialize state vector and apply the QFT circuit\n",
    "initial_state = Statevector.from_label('00000')  # Start from the |00000> state\n",
    "final_state = initial_state.evolve(qc)  # Apply the QFT circuit\n",
    "\n",
    "# Display the circuit diagram\n",
    "print(\"5-Qubit Quantum Fourier Transform Circuit:\")\n",
    "print(qc.draw(output='text'))\n",
    "\n",
    "# Display the resulting state vector\n",
    "print(\"\\n5-Qubit Quantum Fourier Transform Final State Vector:\")\n",
    "print(final_state)\n"
   ]
  },
  {
   "cell_type": "markdown",
   "id": "636d1b07-ea1e-4b04-8542-c00112381f69",
   "metadata": {},
   "source": [
    "# Implement a program for retrieval of documents using inverted files. "
   ]
  },
  {
   "cell_type": "code",
   "execution_count": 2,
   "id": "4fd8d116-0040-4693-bbfb-bba24ba93d48",
   "metadata": {},
   "outputs": [
    {
     "name": "stdout",
     "output_type": "stream",
     "text": [
      "Inverted Index:\n",
      "data: [1, 3, 5]\n",
      "science: [1, 3]\n",
      "is: [1, 2, 4]\n",
      "an: [1]\n",
      "interdisciplinary: [1]\n",
      "field.: [1]\n",
      "machine: [2, 3]\n",
      "learning: [2, 3]\n",
      "a: [2]\n",
      "subset: [2]\n",
      "of: [2]\n",
      "artificial: [2, 4]\n",
      "intelligence.: [2]\n",
      "includes: [3]\n",
      "and: [3]\n",
      "mining.: [3]\n",
      "intelligence: [4]\n",
      "transforming: [4]\n",
      "the: [4]\n",
      "world.: [4]\n",
      "mining: [5]\n",
      "helps: [5]\n",
      "to: [5]\n",
      "extract: [5]\n",
      "information: [5]\n",
      "from: [5]\n",
      "data.: [5]\n"
     ]
    },
    {
     "name": "stdin",
     "output_type": "stream",
     "text": [
      "\n",
      "Enter a search query:  machine learning\n"
     ]
    },
    {
     "name": "stdout",
     "output_type": "stream",
     "text": [
      "\n",
      "Documents containing 'machine learning': {2, 3}\n",
      "Document 2: Machine learning is a subset of artificial intelligence.\n",
      "Document 3: Data science includes machine learning and data mining.\n"
     ]
    }
   ],
   "source": [
    "from collections import defaultdict\n",
    "\n",
    "# Predefined documents\n",
    "documents = {\n",
    "    1: \"Data science is an interdisciplinary field.\",\n",
    "    2: \"Machine learning is a subset of artificial intelligence.\",\n",
    "    3: \"Data science includes machine learning and data mining.\",\n",
    "    4: \"Artificial intelligence is transforming the world.\",\n",
    "    5: \"Data mining helps to extract information from data.\"\n",
    "}\n",
    "\n",
    "# Step 1: Build the inverted index\n",
    "inverted_index = defaultdict(list)\n",
    "\n",
    "for doc_id, content in documents.items():\n",
    "    # Tokenize each document into words\n",
    "    words = content.lower().split()\n",
    "    for word in words:\n",
    "        if doc_id not in inverted_index[word]:\n",
    "            inverted_index[word].append(doc_id)\n",
    "\n",
    "# Display the inverted index (optional, for reference)\n",
    "print(\"Inverted Index:\")\n",
    "for word, doc_ids in inverted_index.items():\n",
    "    print(f\"{word}: {doc_ids}\")\n",
    "\n",
    "# Step 2: Define search function\n",
    "def search(query):\n",
    "    query_words = query.lower().split()\n",
    "    result_docs = []\n",
    "\n",
    "    for word in query_words:\n",
    "        if word in inverted_index:\n",
    "            result_docs.append(set(inverted_index[word]))\n",
    "\n",
    "    # Find common documents containing all query words\n",
    "    if result_docs:\n",
    "        common_docs = set.intersection(*result_docs)\n",
    "    else:\n",
    "        common_docs = set()\n",
    "\n",
    "    return common_docs\n",
    "\n",
    "# Step 3: Search documents based on user input query\n",
    "query = input(\"\\nEnter a search query: \")\n",
    "result = search(query)\n",
    "\n",
    "# Display search results\n",
    "if result:\n",
    "    print(f\"\\nDocuments containing '{query}': {result}\")\n",
    "    for doc_id in result:\n",
    "        print(f\"Document {doc_id}: {documents[doc_id]}\")\n",
    "else:\n",
    "    print(f\"\\nNo documents found containing '{query}'.\")\n"
   ]
  },
  {
   "cell_type": "code",
   "execution_count": null,
   "id": "4cc40996-2572-4eb4-9552-ed8390cb48c1",
   "metadata": {},
   "outputs": [],
   "source": []
  }
 ],
 "metadata": {
  "kernelspec": {
   "display_name": "Python 3 (ipykernel)",
   "language": "python",
   "name": "python3"
  },
  "language_info": {
   "codemirror_mode": {
    "name": "ipython",
    "version": 3
   },
   "file_extension": ".py",
   "mimetype": "text/x-python",
   "name": "python",
   "nbconvert_exporter": "python",
   "pygments_lexer": "ipython3",
   "version": "3.11.7"
  }
 },
 "nbformat": 4,
 "nbformat_minor": 5
}
