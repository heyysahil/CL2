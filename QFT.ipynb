{
 "cells": [
  {
   "cell_type": "code",
   "execution_count": 1,
   "id": "0263bbe6-f8fa-497c-88fb-6c0fe1626318",
   "metadata": {},
   "outputs": [],
   "source": [
    "from qiskit import QuantumCircuit\n",
    "from qiskit.quantum_info import Statevector\n",
    "import numpy as np"
   ]
  },
  {
   "cell_type": "code",
   "execution_count": 2,
   "id": "58e462ed-da83-43f4-b2e1-cda1bdc3a6f5",
   "metadata": {},
   "outputs": [],
   "source": [
    "def apply_qft(qc, n):\n",
    "    \"\"\"Applies Quantum Fourier Transform on the first n qubits in the circuit.\"\"\"\n",
    "    for j in range(n):\n",
    "        # Apply Hadamard on the j-th qubit\n",
    "        qc.h(j)\n",
    "        # Apply controlled rotation gates\n",
    "        for k in range(j+1, n):\n",
    "            angle = np.pi / (2 ** (k - j))\n",
    "            qc.cp(angle, k, j)\n",
    "    # Reverse qubit order with swap gates\n",
    "    for i in range(n // 2):\n",
    "        qc.swap(i, n - i - 1)"
   ]
  },
  {
   "cell_type": "code",
   "execution_count": 3,
   "id": "9269e4ea-8de2-4979-b914-340ebd174a5a",
   "metadata": {},
   "outputs": [],
   "source": [
    "# Create a 5-qubit circuit\n",
    "qc = QuantumCircuit(5)"
   ]
  },
  {
   "cell_type": "code",
   "execution_count": 4,
   "id": "97e5e428-f3a6-4136-8b67-05d77d95c6e2",
   "metadata": {},
   "outputs": [],
   "source": [
    "# Apply QFT on all 5 qubits\n",
    "apply_qft(qc, 5)"
   ]
  },
  {
   "cell_type": "code",
   "execution_count": 5,
   "id": "c30483bf-a9f2-4d23-ab10-ee79ac01ae95",
   "metadata": {},
   "outputs": [],
   "source": [
    "# Initialize state vector and apply the QFT circuit\n",
    "initial_state = Statevector.from_label('00000')  # Start from the |00000> state\n",
    "final_state = initial_state.evolve(qc)  # Apply the QFT circuit"
   ]
  },
  {
   "cell_type": "code",
   "execution_count": 6,
   "id": "51b05a47-5a58-4274-8f8a-1260594065f3",
   "metadata": {},
   "outputs": [
    {
     "name": "stdout",
     "output_type": "stream",
     "text": [
      "5-Qubit Quantum Fourier Transform Circuit:\n",
      "     ┌───┐                                                                 »\n",
      "q_0: ┤ H ├─■────────■─────────────■─────────────────■──────────────────────»\n",
      "     └───┘ │P(π/2)  │       ┌───┐ │                 │                      »\n",
      "q_1: ──────■────────┼───────┤ H ├─┼────────■────────┼─────────■────────────»\n",
      "                    │P(π/4) └───┘ │        │P(π/2)  │         │       ┌───┐»\n",
      "q_2: ───────────────■─────────────┼────────■────────┼─────────┼───────┤ H ├»\n",
      "                                  │P(π/8)           │         │P(π/4) └───┘»\n",
      "q_3: ─────────────────────────────■─────────────────┼─────────■────────────»\n",
      "                                                    │P(π/16)               »\n",
      "q_4: ───────────────────────────────────────────────■──────────────────────»\n",
      "                                                                           »\n",
      "«                                                      \n",
      "«q_0: ───────────────────────────────────────────────X─\n",
      "«                                                    │ \n",
      "«q_1: ─■─────────────────────────────────────────X───┼─\n",
      "«      │                                         │   │ \n",
      "«q_2: ─┼────────■────────■───────────────────────┼───┼─\n",
      "«      │        │P(π/2)  │       ┌───┐           │   │ \n",
      "«q_3: ─┼────────■────────┼───────┤ H ├─■─────────X───┼─\n",
      "«      │P(π/8)           │P(π/4) └───┘ │P(π/2) ┌───┐ │ \n",
      "«q_4: ─■─────────────────■─────────────■───────┤ H ├─X─\n",
      "«                                              └───┘   \n"
     ]
    }
   ],
   "source": [
    "\n",
    "# Display the circuit diagram\n",
    "\n",
    "\n",
    "print(\"5-Qubit Quantum Fourier Transform Circuit:\")\n",
    "print(qc.draw(output='text'))"
   ]
  },
  {
   "cell_type": "code",
   "execution_count": 7,
   "id": "21145141-4cae-4f8e-a33a-e23b25cbbc67",
   "metadata": {},
   "outputs": [
    {
     "name": "stdout",
     "output_type": "stream",
     "text": [
      "\n",
      "5-Qubit Quantum Fourier Transform Final State Vector:\n",
      "Statevector([0.1767767+0.j, 0.1767767+0.j, 0.1767767+0.j, 0.1767767+0.j,\n",
      "             0.1767767+0.j, 0.1767767+0.j, 0.1767767+0.j, 0.1767767+0.j,\n",
      "             0.1767767+0.j, 0.1767767+0.j, 0.1767767+0.j, 0.1767767+0.j,\n",
      "             0.1767767+0.j, 0.1767767+0.j, 0.1767767+0.j, 0.1767767+0.j,\n",
      "             0.1767767+0.j, 0.1767767+0.j, 0.1767767+0.j, 0.1767767+0.j,\n",
      "             0.1767767+0.j, 0.1767767+0.j, 0.1767767+0.j, 0.1767767+0.j,\n",
      "             0.1767767+0.j, 0.1767767+0.j, 0.1767767+0.j, 0.1767767+0.j,\n",
      "             0.1767767+0.j, 0.1767767+0.j, 0.1767767+0.j, 0.1767767+0.j],\n",
      "            dims=(2, 2, 2, 2, 2))\n"
     ]
    }
   ],
   "source": [
    "# Display the resulting state vector\n",
    "print(\"\\n5-Qubit Quantum Fourier Transform Final State Vector:\")\n",
    "print(final_state)\n"
   ]
  },
  {
   "cell_type": "code",
   "execution_count": null,
   "id": "e7521187-dd3d-4e27-a8d9-c8143e4d8273",
   "metadata": {},
   "outputs": [],
   "source": []
  }
 ],
 "metadata": {
  "kernelspec": {
   "display_name": "Python 3 (ipykernel)",
   "language": "python",
   "name": "python3"
  },
  "language_info": {
   "codemirror_mode": {
    "name": "ipython",
    "version": 3
   },
   "file_extension": ".py",
   "mimetype": "text/x-python",
   "name": "python",
   "nbconvert_exporter": "python",
   "pygments_lexer": "ipython3",
   "version": "3.11.7"
  }
 },
 "nbformat": 4,
 "nbformat_minor": 5
}
